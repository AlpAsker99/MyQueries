{
 "cells": [
  {
   "cell_type": "code",
   "execution_count": 54,
   "metadata": {},
   "outputs": [
    {
     "name": "stdout",
     "output_type": "stream",
     "text": [
      "the subject file name is Task #206590695 attachments.zip\n"
     ]
    }
   ],
   "source": [
    "import glob as g\n",
    "import pandas as pd\n",
    "import zipfile as zf\n",
    "import os\n",
    "import datetime as dtm\n",
    "import shutil as sh\n",
    "from datetime import datetime as dt\n",
    "\n",
    "\n",
    "# Getting last zip-file name:\n",
    "zip_path=('C:\\\\Users\\\\NurlanKer\\\\Downloads')\n",
    "extr_path=('C:\\\\Users\\\\NurlanKer\\\\Desktop\\\\act tabs')\n",
    "zp_list=g.glob(zip_path+'\\\\Task*.zip')\n",
    "szp=(max(zp_list))\n",
    "sz_name=szp[szp.rfind('\\\\')+1:szp.rfind('p')+1]\n",
    "print('the subject file name is'+' '+sz_name)"
   ]
  },
  {
   "cell_type": "code",
   "execution_count": 55,
   "metadata": {},
   "outputs": [
    {
     "name": "stdout",
     "output_type": "stream",
     "text": [
      "csv files were extracted successfully\n"
     ]
    }
   ],
   "source": [
    "# Extracting the files\n",
    "# extr_path=('C:\\\\Users\\\\NurlanKer\\\\Desktop\\\\act tabs')\n",
    "with zf.ZipFile(zip_path +'\\\\' +sz_name) as e:\n",
    "\n",
    "    e.extractall(extr_path)\n",
    "    print('csv files were extracted successfully')"
   ]
  },
  {
   "cell_type": "code",
   "execution_count": 57,
   "metadata": {},
   "outputs": [
    {
     "name": "stdout",
     "output_type": "stream",
     "text": [
      "C:\\Users\\NurlanKer\\Desktop\\act tabs\\xlsx\\03.14.2024\n"
     ]
    }
   ],
   "source": [
    "# decalring an extract folder name (where converted tables will be stored)\n",
    "\n",
    "path_1=('C:\\\\Users\\\\NurlanKer\\\\Desktop\\\\act tabs\\\\xlsx\\\\')\n",
    "# today = dt.now().strftime('%m.%d.%Y')\n",
    "today=(str(dt.now()))\n",
    "today=today[5:7]+'.'+today[8:10]+'.'+today[0:4]\n",
    "save_path=path_1+today\n",
    "# print('The current day is'+' '+folder_name)\n",
    "print(save_path)"
   ]
  },
  {
   "cell_type": "code",
   "execution_count": 58,
   "metadata": {},
   "outputs": [
    {
     "name": "stdout",
     "output_type": "stream",
     "text": [
      "The folder for current day was successfully created\n"
     ]
    }
   ],
   "source": [
    "# Creating a folder for tables storage\n",
    "if not os.path.exists(save_path):\n",
    "    os.mkdir(save_path)\n",
    "    print('The folder for current day was successfully created')\n",
    "else:\n",
    "    print('Folder exists')"
   ]
  },
  {
   "cell_type": "code",
   "execution_count": 60,
   "metadata": {},
   "outputs": [
    {
     "name": "stdout",
     "output_type": "stream",
     "text": [
      "C:\\Users\\NurlanKer\\Desktop\\act tabs\\xlsx\\03.14.2024\\EmailActivityUserDetail3_11_2024 9_46_13 AM.xlsx\n",
      "C:\\Users\\NurlanKer\\Desktop\\act tabs\\xlsx\\03.14.2024\\PhoneLogs_03_08_24.xlsx\n",
      "C:\\Users\\NurlanKer\\Desktop\\act tabs\\xlsx\\03.14.2024\\PhoneReport_03_08_24.xlsx\n",
      "C:\\Users\\NurlanKer\\Desktop\\act tabs\\xlsx\\03.14.2024\\TeamsUserActivityUserDetail3_11_2024 9_46_48 AM.xlsx\n",
      "C:\\Users\\NurlanKer\\Desktop\\act tabs\\xlsx\\03.14.2024\\WorkingHours 03_11_2024 10_38_49.xlsx\n",
      "column K format was chnged ssflly\n",
      "column L format was chnged ssflly\n",
      "column M format was chnged ssflly\n",
      "column N format was chnged ssflly\n"
     ]
    }
   ],
   "source": [
    "\n",
    "\n",
    "#converting the csv tables into xlsx and saving in the folder:\n",
    "tab_list=g.glob(extr_path+'\\\\*.csv')\n",
    "for i in range(len(tab_list)):\n",
    "    tn_start=tab_list[i].rfind('\\\\')+1\n",
    "    tn_end=tab_list[i].rfind('.')\n",
    "    tn=tab_list[i][tn_start:tn_end]\n",
    "    df=pd.read_csv(tab_list[i])\n",
    "    print(save_path+'\\\\'+tn+'.xlsx')\n",
    "    df.to_excel(save_path+'\\\\'+tn+'.xlsx')\n",
    "\n",
    "#dealing with PhoneReport (some columns have wrong data types, need to correct it)\n",
    "from openpyxl import load_workbook\n",
    "from openpyxl.styles import numbers\n",
    "\n",
    "subject_table=g.glob(save_path+'\\\\PhoneReport*.xlsx')[0]\n",
    "wb=load_workbook(subject_table)\n",
    "ws=wb.active\n",
    "\n",
    "ws=ws['K']\n",
    "for cell in ws:\n",
    "    if cell.value is not None:\n",
    "        cell.number_format='h:mm:ss'\n",
    "print('column K format was chnged ssflly')\n",
    "        \n",
    "ws=wb.active\n",
    "ws=ws['L']\n",
    "for cell in ws:\n",
    "    if cell.value is not None:\n",
    "        cell.number_format='h:mm:ss'\n",
    "print('column L format was chnged ssflly')\n",
    "\n",
    "ws=wb.active\n",
    "ws=ws['M']\n",
    "for cell in ws:\n",
    "    if cell.value is not None:\n",
    "        cell.number_format='h:mm:ss'\n",
    "print('column M format was chnged ssflly')\n",
    "\n",
    "ws=wb.active\n",
    "ws=ws['N']\n",
    "for cell in ws:\n",
    "    if cell.value is not None:\n",
    "        cell.number_format='h:mm:ss'\n",
    "print('column N format was chnged ssflly')\n",
    "\n",
    "wb.save(subject_table)"
   ]
  },
  {
   "cell_type": "code",
   "execution_count": 61,
   "metadata": {},
   "outputs": [],
   "source": [
    "# Remove the csv's\n",
    "for i in range(len(tab_list)):\n",
    "    if os.path.exists(tab_list[i]):\n",
    "        os.remove(tab_list[i])\n",
    "    else:\n",
    "        print('No csv to remove')"
   ]
  },
  {
   "cell_type": "code",
   "execution_count": 62,
   "metadata": {},
   "outputs": [
    {
     "name": "stdout",
     "output_type": "stream",
     "text": [
      "('Email', 'Phone Logs', 'Phone (Zoom & Jive)', 'Teams', 'ActiveTrack')\n"
     ]
    }
   ],
   "source": [
    "\n",
    "# storage-a backup folder where u store tables, str\n",
    "storage='C:\\\\Users\\\\NurlanKer\\\\Desktop\\\\act tabs\\\\xlsx'\n",
    "folders=os.listdir(storage)[1:]\n",
    "subjFolder=str(max([dt.strptime(dates, '%m.%d.%Y') for dates in folders]))[0:10].replace('-','.')\n",
    "subjFolder=storage+'\\\\'+subjFolder[5:]+'.'+subjFolder[:4]\n",
    "\n",
    "#sp-a SharePoint folder, dst\n",
    "sp_root='C:\\\\Users\\\\NurlanKer\\\\A&D Mortgage\\\\BI - Activities'\n",
    "sp_folders=os.listdir(sp_root)[1:6]\n",
    "sp_f_correct= sp_folders[1], sp_folders[3], sp_folders[2], sp_folders[4], sp_folders[0] #excluded PhoneReport\n",
    "print(sp_f_correct)\n"
   ]
  },
  {
   "cell_type": "code",
   "execution_count": 63,
   "metadata": {},
   "outputs": [
    {
     "name": "stdout",
     "output_type": "stream",
     "text": [
      "Success!\n"
     ]
    }
   ],
   "source": [
    "#uploading the tables to the appropriate SharePoint folders:\n",
    "for i in range(5):\n",
    "    sh.copy(subjFolder+'\\\\'+os.listdir(subjFolder)[i], os.path.join(sp_root,sp_f_correct[i]))\n",
    "print('Success!')\n"
   ]
  }
 ],
 "metadata": {
  "kernelspec": {
   "display_name": "Python 3",
   "language": "python",
   "name": "python3"
  },
  "language_info": {
   "codemirror_mode": {
    "name": "ipython",
    "version": 3
   },
   "file_extension": ".py",
   "mimetype": "text/x-python",
   "name": "python",
   "nbconvert_exporter": "python",
   "pygments_lexer": "ipython3",
   "version": "3.11.4"
  }
 },
 "nbformat": 4,
 "nbformat_minor": 2
}

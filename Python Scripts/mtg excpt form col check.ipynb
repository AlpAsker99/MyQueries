{
 "cells": [
  {
   "cell_type": "code",
   "execution_count": 68,
   "metadata": {},
   "outputs": [],
   "source": [
    "import pandas as pd, os, numpy as np, datetime as dt, glob as g\n",
    "\n",
    "#declaring a file - the right form that we need to match downloaded form with (columns):\n",
    "file=pd.read_excel('Exception form (7).xlsx', header=None)\n",
    "\n",
    "#declaring a Subject file, downloaded from Pyrus form:\n",
    "SubjFile=pd.read_csv(max((g.glob('Forms*'))), header=None, low_memory=False)\n"
   ]
  },
  {
   "cell_type": "code",
   "execution_count": 69,
   "metadata": {},
   "outputs": [],
   "source": [
    "#declaring right column order and names:\n",
    "Rcolumns=file.loc[3]\n",
    "Rcolumns_list=[ 'First Exception for this Loan?', 'Channel', 'Preferred broker?', 'Requestor Name', 'Requestor Email', 'Loan Number', 'Borrower’s Name', 'Lien Position', 'Property Occupancy', \"Borrower's Citizenship\", 'Loan Purpose', 'Program Name', 'Sr UW on file', \"Reason for mistake/UW's explanation of mistake\", 'Explanation from Sr UW TL', 'Income Type', 'Interest Rate', 'Loan Amount', 'Property value', 'Purchase price', 'DTI', 'DSCR (ratio)', 'LTV', 'CLTV', 'Property Type', 'Property Address', 'Credit Score', \n",
    "'Foreclosure / SS / BK / Loan Modification / 1x90', 'Mortgage Lates in past 24 months', 'Attach Credit Report, Appraisal, 1003, other (if applicable)', 'Type Of Exception', \"Borrower's current living address\", 'Required reserves', 'Actual reserves borrower is able to provide', 'Desired Rate & Price', '1007 estimated rent', 'Reason for Price Reconsideration', 'Actual rent', \"Number of eligible borrower's tradelines for the program\", 'Please attach AVM', 'Do you have an appraisal for the subject?', 'Additional compensating factors', 'Max Loan Amount per matrix', 'Requested Loan Amount', 'Attach appraisal', \n",
    "'Max LTV per matrix', 'Requested LTV', 'Exact number of NSFs/Overdrafts that require an exception', 'Compensating Factors (min. 3) for DSCR', 'Compensating Factors (min. 3) for non-DSCR & non-FN', 'Compensating Factors (min. 3) for FN FD', 'Compensating Factors (min. 3) for FN DSCR', 'Short Description of Exception', 'Other compensating factors', 'Comments to Exception', 'Credit Decision', 'Reason', 'Comment', 'Details', 'Exception Category', 'Date of Decision', 'Description of Non-Material Category', 'Internal Decision Comment', 'Created Date', 'Subject', 'Rating', 'Rating comment', 'Rating Date', 'Due', 'Close date', 'Overdue', 'Recent activity']\n",
    "\n",
    "#declaring \"wrong\" columns (columns from the downloaded form):\n",
    "Wcolumns=SubjFile.loc[3]\n",
    "Wcolumns_list=list(SubjFile.loc[3])"
   ]
  },
  {
   "cell_type": "code",
   "execution_count": 70,
   "metadata": {},
   "outputs": [],
   "source": [
    "\n",
    "#getting rid of the rows we don't need:\n",
    "SubjFile=SubjFile.drop(range(4))\n",
    "\n",
    "#creating a column row :\n",
    "SubjFile.columns=Wcolumns"
   ]
  },
  {
   "cell_type": "code",
   "execution_count": 71,
   "metadata": {},
   "outputs": [
    {
     "name": "stdout",
     "output_type": "stream",
     "text": [
      "Borrower's current living address rename !!!!!!!!!!!!!!!!\n",
      "Please attach AVM rename !!!!!!!!!!!!!!!!\n",
      "Do you have an appraisal for the subject? rename !!!!!!!!!!!!!!!!\n"
     ]
    }
   ],
   "source": [
    "#getting a list of columns we need to rename:\n",
    "for i in range(len(Rcolumns_list)):\n",
    "    if Rcolumns_list[i] not in Wcolumns_list:\n",
    "        print(str(Rcolumns_list[i])+' rename !!!!!!!!!!!!!!!!')"
   ]
  },
  {
   "cell_type": "code",
   "execution_count": 72,
   "metadata": {},
   "outputs": [],
   "source": [
    "#renaming the columns with wrong names:\n",
    "SubjFile=SubjFile.rename(columns={\"Borrower's current primary address\":\"Borrower's current living address\", 'Please attach AVM [116]':\"Please attach AVM\",'Please attach AVM [129]':'Please attach AVM',\"Do you have an appraisal for the subject? [115]\":'Do you have an appraisal for the subject?', \"Do you have an appraisal for the subject? [130]\":'Do you have an appraisal for the subject?' })\n",
    "\n",
    "#declaring a subject columns list:\n",
    "Scolumns_list=list(SubjFile.columns)\n",
    "\n",
    "#checking if we got all the columns we need and the names are correct (won't output anything if all is good):\n",
    "for i in range(len(Rcolumns_list)):\n",
    "    if Rcolumns_list[i] not in Scolumns_list:\n",
    "        print(str(Rcolumns_list[i])+'  this column is off')"
   ]
  },
  {
   "cell_type": "code",
   "execution_count": 73,
   "metadata": {},
   "outputs": [],
   "source": [
    "#saving a temporary table:\n",
    "#WARNING: on this step you may get \"Illegal Character\" error. Solution: delete all the values in the \"Comments to Exception\" column (it's not used in the PowerBi report)\n",
    "SubjFile.to_excel('SubjFile_temp.xlsx', index=False) # check if we need to disable index, because it will delete the 1st column (nan)"
   ]
  },
  {
   "cell_type": "code",
   "execution_count": 74,
   "metadata": {},
   "outputs": [],
   "source": [
    "\n",
    "#saving a subject file with right column order:\n",
    "SubjFile=pd.read_excel('SubjFile_temp.xlsx')\n",
    "SubjFile=SubjFile[Rcolumns_list]\n",
    "SubjFile.to_excel('Exception Formm.xlsx', index=False)#may need to enable index (to get a nan column as it's in the right form)"
   ]
  },
  {
   "cell_type": "code",
   "execution_count": 75,
   "metadata": {},
   "outputs": [],
   "source": [
    "#remove the temp table:\n",
    "os.remove('SubjFile_temp.xlsx')"
   ]
  }
 ],
 "metadata": {
  "kernelspec": {
   "display_name": "Python 3",
   "language": "python",
   "name": "python3"
  },
  "language_info": {
   "codemirror_mode": {
    "name": "ipython",
    "version": 3
   },
   "file_extension": ".py",
   "mimetype": "text/x-python",
   "name": "python",
   "nbconvert_exporter": "python",
   "pygments_lexer": "ipython3",
   "version": "3.11.4"
  }
 },
 "nbformat": 4,
 "nbformat_minor": 2
}
